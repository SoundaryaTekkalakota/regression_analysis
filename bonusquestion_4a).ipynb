{
 "cells": [
  {
   "cell_type": "code",
   "execution_count": 126,
   "metadata": {},
   "outputs": [
    {
     "data": {
      "text/html": [
       "<script type=\"text/javascript\">window.PlotlyConfig = {MathJaxConfig: 'local'};</script><script type=\"text/javascript\">if (window.MathJax) {MathJax.Hub.Config({SVG: {font: \"STIX-Web\"}});}</script><script>requirejs.config({paths: { 'plotly': ['https://cdn.plot.ly/plotly-latest.min']},});if(!window._Plotly) {require(['plotly'],function(plotly) {window._Plotly=plotly;});}</script>"
      ],
      "text/vnd.plotly.v1+html": [
       "<script type=\"text/javascript\">window.PlotlyConfig = {MathJaxConfig: 'local'};</script><script type=\"text/javascript\">if (window.MathJax) {MathJax.Hub.Config({SVG: {font: \"STIX-Web\"}});}</script><script>requirejs.config({paths: { 'plotly': ['https://cdn.plot.ly/plotly-latest.min']},});if(!window._Plotly) {require(['plotly'],function(plotly) {window._Plotly=plotly;});}</script>"
      ]
     },
     "metadata": {},
     "output_type": "display_data"
    }
   ],
   "source": [
    "import numpy as np\n",
    "import pandas as pd\n",
    "import matplotlib.pyplot as plt\n",
    "\n",
    "import numpy as np\n",
    "fpath = './insurance_data.csv'\n",
    "import numpy as np\n",
    "from surprise import Dataset\n",
    "from surprise import Reader\n",
    "from surprise import KNNWithMeans\n",
    "from surprise.model_selection import cross_validate\n",
    "import pickle\n",
    "from tqdm import tqdm\n",
    "import plotly as py\n",
    "from plotly.offline import init_notebook_mode\n",
    "import plotly.graph_objs as go\n",
    "py.offline.init_notebook_mode(connected=True)\n"
   ]
  },
  {
   "cell_type": "code",
   "execution_count": 127,
   "metadata": {},
   "outputs": [],
   "source": [
    "import numpy as np\n",
    "from sklearn.linear_model import LinearRegression\n",
    "from sklearn.model_selection import train_test_split\n",
    "from sklearn.model_selection import KFold\n",
    "from sklearn import metrics"
   ]
  },
  {
   "cell_type": "code",
   "execution_count": 128,
   "metadata": {},
   "outputs": [
    {
     "name": "stdout",
     "output_type": "stream",
     "text": [
      "   ft1     ft2  ft3     ft4  ft5        ft6      charges\n",
      "0   19  27.900    0  female  yes  southwest  16884.92400\n",
      "1   18  33.770    1    male   no  southeast   1725.55230\n",
      "2   28  33.000    3    male   no  southeast   4449.46200\n",
      "3   33  22.705    0    male   no  northwest  21984.47061\n",
      "4   32  28.880    0    male   no  northwest   3866.85520\n"
     ]
    }
   ],
   "source": [
    "insurance_data = pd.read_csv(fpath)\n",
    "print(insurance_data[:5])"
   ]
  },
  {
   "cell_type": "markdown",
   "metadata": {},
   "source": [
    "## Polynomial features"
   ]
  },
  {
   "cell_type": "code",
   "execution_count": 129,
   "metadata": {},
   "outputs": [],
   "source": [
    "Xs, Ys = [], []\n",
    "\n",
    "\n",
    "#print(insurance_data.dtypes)\n",
    "\n",
    "#0 => Female; 1=> Male\n",
    "insurance_data['ft4'] = insurance_data['ft4'].astype('category').cat.codes\n",
    "\n",
    "#0 => No; 1=> Yes\n",
    "insurance_data['ft5'] = insurance_data['ft5'].astype('category').cat.codes\n",
    "\n",
    "#0 => NE; 1=> NW; 2=> SE; 3=> SW\n",
    "insurance_data['ft6'] = insurance_data['ft6'].astype('category').cat.codes\n",
    " \n",
    "    \n",
    "Xs.append(insurance_data.drop(\"charges\", axis=1))\n",
    "Ys.append(insurance_data[['charges']]) "
   ]
  },
  {
   "cell_type": "code",
   "execution_count": 130,
   "metadata": {},
   "outputs": [],
   "source": [
    "#Linear regression with cross validation\n",
    "from sklearn.linear_model import LinearRegression\n",
    "from sklearn.model_selection import KFold\n",
    "from sklearn.metrics import mean_squared_error\n",
    "from math import sqrt\n",
    "\n",
    "def linearreg(model, X, y):\n",
    "    kf = KFold(n_splits=10)\n",
    "    rmse_train, rmse_test = 0, 0\n",
    "    for train_index, test_index in kf.split(X):\n",
    "        X_train, X_test = X.loc[train_index], X.loc[test_index]\n",
    "        y_train, y_test = y.loc[train_index], y.loc[test_index]\n",
    "        model.fit(X_train, y_train)\n",
    "        rmse_train += mean_squared_error(y_train, model.predict(X_train))\n",
    "        rmse_test += mean_squared_error(y_test, model.predict(X_test))\n",
    "\n",
    "    return sqrt(rmse_train / 10), sqrt(rmse_test / 10)"
   ]
  },
  {
   "cell_type": "code",
   "execution_count": 131,
   "metadata": {},
   "outputs": [],
   "source": [
    "rmses_train, rmses_test = [], []\n",
    "for i in range(len(Ys)):\n",
    "    rmses_train.append([])\n",
    "    rmses_test.append([])\n",
    "\n",
    "    rmse_train, rmse_test = linearreg(LinearRegression(), Xs[i], Ys[i])\n",
    "    rmses_train[i].append(rmse_train)\n",
    "    rmses_test[i].append(rmse_test)"
   ]
  },
  {
   "cell_type": "code",
   "execution_count": 132,
   "metadata": {},
   "outputs": [
    {
     "name": "stdout",
     "output_type": "stream",
     "text": [
      "Average Training RMSE across 10-fold cross-validation: polyfeatures degree=1 6041.956648352711\n",
      "Average Testing RMSE across 10-fold cross-validation: polyfeatures degree=1 6079.261805546263\n"
     ]
    }
   ],
   "source": [
    "print(\"Average Training RMSE across 10-fold cross-validation: polyfeatures degree=1\", np.mean(rmse_train))\n",
    "print(\"Average Testing RMSE across 10-fold cross-validation: polyfeatures degree=1\", np.mean(rmse_test))\n"
   ]
  },
  {
   "cell_type": "code",
   "execution_count": 133,
   "metadata": {},
   "outputs": [],
   "source": [
    "Xs, Ys = [], []\n",
    "\n",
    "\n",
    "#print(insurance_data.dtypes)\n",
    "\n",
    "#0 => Female; 1=> Male\n",
    "insurance_data['ft4'] = insurance_data['ft4'].astype('category').cat.codes\n",
    "\n",
    "#0 => No; 1=> Yes\n",
    "insurance_data['ft5'] = insurance_data['ft5'].astype('category').cat.codes\n",
    "\n",
    "#0 => NE; 1=> NW; 2=> SE; 3=> SW\n",
    "insurance_data['ft6'] = insurance_data['ft6'].astype('category').cat.codes\n",
    " \n",
    "insurance_data['ft7']=insurance_data['ft1']*insurance_data['ft1']\n",
    "insurance_data['ft8']=insurance_data['ft2']*insurance_data['ft2']\n",
    "Xs.append(insurance_data.drop(\"charges\", axis=1))\n",
    "Ys.append(insurance_data[['charges']]) "
   ]
  },
  {
   "cell_type": "code",
   "execution_count": 134,
   "metadata": {},
   "outputs": [
    {
     "name": "stdout",
     "output_type": "stream",
     "text": [
      "   ft1     ft2  ft3  ft4  ft5  ft6      charges   ft7          ft8\n",
      "0   19  27.900    0    0    1    3  16884.92400   361   778.410000\n",
      "1   18  33.770    1    1    0    2   1725.55230   324  1140.412900\n",
      "2   28  33.000    3    1    0    2   4449.46200   784  1089.000000\n",
      "3   33  22.705    0    1    0    1  21984.47061  1089   515.517025\n",
      "4   32  28.880    0    1    0    1   3866.85520  1024   834.054400\n"
     ]
    }
   ],
   "source": [
    "print(insurance_data[:5])"
   ]
  },
  {
   "cell_type": "code",
   "execution_count": 135,
   "metadata": {},
   "outputs": [],
   "source": [
    "rmses_train, rmses_test = [], []\n",
    "for i in range(len(Ys)):\n",
    "    rmses_train.append([])\n",
    "    rmses_test.append([])\n",
    "\n",
    "    rmse_train, rmse_test = linearreg(LinearRegression(), Xs[i], Ys[i])\n",
    "    rmses_train[i].append(rmse_train)\n",
    "    rmses_test[i].append(rmse_test)"
   ]
  },
  {
   "cell_type": "code",
   "execution_count": 136,
   "metadata": {},
   "outputs": [
    {
     "name": "stdout",
     "output_type": "stream",
     "text": [
      "Average Training RMSE across 10-fold cross-validation: polyfeatures degree=2 5994.995146823218\n",
      "Average Testing RMSE across 10-fold cross-validation: polyfeatures degree=2 6042.869178773118\n"
     ]
    }
   ],
   "source": [
    "print(\"Average Training RMSE across 10-fold cross-validation: polyfeatures degree=2\", np.mean(rmse_train))\n",
    "print(\"Average Testing RMSE across 10-fold cross-validation: polyfeatures degree=2\", np.mean(rmse_test))"
   ]
  },
  {
   "cell_type": "code",
   "execution_count": 137,
   "metadata": {},
   "outputs": [],
   "source": [
    "insurance_data['ft9']=insurance_data['ft1']*insurance_data['ft1']*insurance_data['ft1']\n",
    "insurance_data['ft10']=insurance_data['ft2']*insurance_data['ft2']*insurance_data['ft2']\n",
    "Xs.append(insurance_data.drop(\"charges\", axis=1))\n",
    "Ys.append(insurance_data[['charges']]) "
   ]
  },
  {
   "cell_type": "code",
   "execution_count": 138,
   "metadata": {},
   "outputs": [],
   "source": [
    "\n",
    "rmses_train, rmses_test = [], []\n",
    "for i in range(len(Ys)):\n",
    "    rmses_train.append([])\n",
    "    rmses_test.append([])\n",
    "\n",
    "    rmse_train, rmse_test = linearreg(LinearRegression(), Xs[i], Ys[i])\n",
    "    rmses_train[i].append(rmse_train)\n",
    "    rmses_test[i].append(rmse_test)"
   ]
  },
  {
   "cell_type": "code",
   "execution_count": 139,
   "metadata": {},
   "outputs": [
    {
     "name": "stdout",
     "output_type": "stream",
     "text": [
      "Average Training RMSE across 10-fold cross-validation: polyfeatures degree=3 5982.9122471513465\n",
      "Average Testing RMSE across 10-fold cross-validation: polyfeatures degree=3 6047.283154148852\n"
     ]
    }
   ],
   "source": [
    "print(\"Average Training RMSE across 10-fold cross-validation: polyfeatures degree=3\", np.mean(rmse_train))\n",
    "print(\"Average Testing RMSE across 10-fold cross-validation: polyfeatures degree=3\", np.mean(rmse_test))"
   ]
  },
  {
   "cell_type": "code",
   "execution_count": 140,
   "metadata": {},
   "outputs": [],
   "source": [
    "insurance_data['ft11']=insurance_data['ft1']*insurance_data['ft1']*insurance_data['ft1']*insurance_data['ft1']\n",
    "insurance_data['ft12']=insurance_data['ft2']*insurance_data['ft2']*insurance_data['ft2']*insurance_data['ft2']\n",
    "Xs.append(insurance_data.drop(\"charges\", axis=1))\n",
    "Ys.append(insurance_data[['charges']]) "
   ]
  },
  {
   "cell_type": "code",
   "execution_count": 141,
   "metadata": {},
   "outputs": [],
   "source": [
    "\n",
    "rmses_train, rmses_test = [], []\n",
    "for i in range(len(Ys)):\n",
    "    rmses_train.append([])\n",
    "    rmses_test.append([])\n",
    "\n",
    "    rmse_train, rmse_test = linearreg(LinearRegression(), Xs[i], Ys[i])\n",
    "    rmses_train[i].append(rmse_train)\n",
    "    rmses_test[i].append(rmse_test)"
   ]
  },
  {
   "cell_type": "code",
   "execution_count": 142,
   "metadata": {},
   "outputs": [
    {
     "name": "stdout",
     "output_type": "stream",
     "text": [
      "Average Training RMSE across 10-fold cross-validation: polyfeatures degree=4 5957.139405481374\n",
      "Average Testing RMSE across 10-fold cross-validation: polyfeatures degree=4 6043.478821781326\n"
     ]
    }
   ],
   "source": [
    "print(\"Average Training RMSE across 10-fold cross-validation: polyfeatures degree=4\", np.mean(rmse_train))\n",
    "print(\"Average Testing RMSE across 10-fold cross-validation: polyfeatures degree=4\", np.mean(rmse_test))"
   ]
  },
  {
   "cell_type": "markdown",
   "metadata": {},
   "source": [
    "## Different combinations -feature 2 and feature D"
   ]
  },
  {
   "cell_type": "code",
   "execution_count": 153,
   "metadata": {},
   "outputs": [],
   "source": [
    "insurance_data['ft13']=insurance_data['ft2']*insurance_data['ft5']\n",
    "Xs.append(insurance_data.drop(\"charges\", axis=1))\n",
    "Ys.append(insurance_data[['charges']]) "
   ]
  },
  {
   "cell_type": "code",
   "execution_count": 154,
   "metadata": {},
   "outputs": [],
   "source": [
    "rmses_train, rmses_test = [], []\n",
    "for i in range(len(Ys)):\n",
    "    rmses_train.append([])\n",
    "    rmses_test.append([])\n",
    "\n",
    "    rmse_train, rmse_test = linearreg(LinearRegression(), Xs[i], Ys[i])\n",
    "    rmses_train[i].append(rmse_train)\n",
    "    rmses_test[i].append(rmse_test)"
   ]
  },
  {
   "cell_type": "code",
   "execution_count": 155,
   "metadata": {},
   "outputs": [
    {
     "name": "stdout",
     "output_type": "stream",
     "text": [
      "Average Training RMSE across 10-fold cross-validation: combination 4720.663145053077\n",
      "Average Testing RMSE across 10-fold cross-validation: combination 4791.673183766742\n"
     ]
    }
   ],
   "source": [
    "print(\"Average Training RMSE across 10-fold cross-validation: combination\", np.mean(rmse_train))\n",
    "print(\"Average Testing RMSE across 10-fold cross-validation: combination\", np.mean(rmse_test))"
   ]
  }
 ],
 "metadata": {
  "kernelspec": {
   "display_name": "Python 3",
   "language": "python",
   "name": "python3"
  },
  "language_info": {
   "codemirror_mode": {
    "name": "ipython",
    "version": 3
   },
   "file_extension": ".py",
   "mimetype": "text/x-python",
   "name": "python",
   "nbconvert_exporter": "python",
   "pygments_lexer": "ipython3",
   "version": "3.6.6"
  }
 },
 "nbformat": 4,
 "nbformat_minor": 2
}
