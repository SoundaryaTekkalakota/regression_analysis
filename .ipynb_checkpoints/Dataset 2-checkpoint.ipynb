{
 "cells": [
  {
   "cell_type": "markdown",
   "metadata": {
    "scrolled": true
   },
   "source": [
    "Standard import statements"
   ]
  },
  {
   "cell_type": "code",
   "execution_count": 1,
   "metadata": {},
   "outputs": [],
   "source": [
    "import numpy as np\n",
    "import pandas as pd\n",
    "import seaborn as sns \n",
    "import matplotlib.pyplot as plt \n",
    "import csv\n",
    "import warnings\n",
    "from sklearn.model_selection import train_test_split\n",
    "from sklearn.linear_model import LinearRegression\n",
    "from sklearn.metrics import mean_squared_error\n",
    "from sklearn.model_selection import KFold\n",
    "from sklearn.model_selection import cross_val_score, cross_val_predict\n",
    "from sklearn import metrics\n",
    "import statsmodels.api as sm\n",
    "from sklearn.metrics import make_scorer\n",
    "from scipy import stats\n",
    "from sklearn import preprocessing\n",
    "from sklearn.linear_model import RidgeCV\n",
    "from sklearn.linear_model import ElasticNet\n",
    "from sklearn.datasets import make_regression\n",
    "from sklearn.linear_model import LassoCV\n",
    "%matplotlib inline"
   ]
  },
  {
   "cell_type": "markdown",
   "metadata": {},
   "source": [
    "Load the Dataset"
   ]
  },
  {
   "cell_type": "code",
   "execution_count": 2,
   "metadata": {},
   "outputs": [],
   "source": [
    "datasetFile = 'housing_data.csv'\n",
    "datasetName = 'Boston Housing Dataset'\n",
    "\n",
    "reader = csv.reader(open(datasetFile, 'r'))\n",
    "readData = pd.DataFrame(list(reader)[0:])\n",
    "\n",
    "#print(readData)\n",
    "\n",
    "readData.columns = [\"CRIM\", \"ZN\", \"INDUS\", \"CHAS\", \"NOX\", \"RM\", \"AGE\", \"DIS\", \"RAD\", \"TAX\", \"PTRATIO\", \"B\", \"LSTAT\", \"MEDV\" ]\n",
    "readData = readData.astype(float)\n",
    "\n",
    "#print(readData['MEDV'])"
   ]
  },
  {
   "cell_type": "markdown",
   "metadata": {},
   "source": [
    "Linear Regression (Calculating Average RMSE through a loop)"
   ]
  },
  {
   "cell_type": "code",
   "execution_count": 3,
   "metadata": {},
   "outputs": [
    {
     "name": "stdout",
     "output_type": "stream",
     "text": [
      "The average RMSE is: 5.180845679340267\n"
     ]
    }
   ],
   "source": [
    "X = readData.drop('MEDV', axis=1).values\n",
    "Y = readData['MEDV'].values\n",
    "\n",
    "rmse_list = []\n",
    "kf = KFold(n_splits=10, random_state=None, shuffle=False)\n",
    "#print(kf.get_n_splits(X))\n",
    "\n",
    "for trainset, testset in kf.split(X):\n",
    "    X_train, X_test = X[trainset], X[testset]\n",
    "    Y_train, Y_test = Y[trainset], Y[testset]\n",
    "    lm = LinearRegression(n_jobs=-1)\n",
    "    lm.fit(X_train, Y_train)\n",
    "    y_test_predict = lm.predict(X_test)\n",
    "    rmse = (np.sqrt(mean_squared_error(Y_test, y_test_predict)))\n",
    "    #print('RMSE is {}'.format(rmse))\n",
    "    rmse_list.append(rmse)\n",
    "\n",
    "sum = 0\n",
    "for i in rmse_list:\n",
    "    sum = sum + i\n",
    "avg_rmse = sum/len(rmse_list)\n",
    "print(\"The average RMSE is:\",avg_rmse)   "
   ]
  },
  {
   "cell_type": "markdown",
   "metadata": {},
   "source": [
    "Linear Regression (Calculating Average RMSE using inbuilt function)"
   ]
  },
  {
   "cell_type": "code",
   "execution_count": 4,
   "metadata": {
    "scrolled": true
   },
   "outputs": [
    {
     "name": "stdout",
     "output_type": "stream",
     "text": [
      "The average RMSE is: 5.180845679340267\n"
     ]
    }
   ],
   "source": [
    "scorer = make_scorer(mean_squared_error)\n",
    "scores = cross_val_score(lm, X, Y, cv=10, scoring=scorer)\n",
    "predicted = cross_val_predict(lm, X, Y, cv=10)\n",
    "#print('Cross-validated scores:', scores)\n",
    "\n",
    "sum = 0\n",
    "for i in scores:\n",
    "    sum = sum + np.sqrt(i)\n",
    "avg_score = sum/len(scores)\n",
    "\n",
    "print(\"The average RMSE is:\",avg_score) "
   ]
  },
  {
   "cell_type": "markdown",
   "metadata": {},
   "source": [
    "Significance of different variables in the dataset"
   ]
  },
  {
   "cell_type": "code",
   "execution_count": 5,
   "metadata": {
    "scrolled": true
   },
   "outputs": [
    {
     "name": "stdout",
     "output_type": "stream",
     "text": [
      "                            OLS Regression Results                            \n",
      "==============================================================================\n",
      "Dep. Variable:                      y   R-squared:                       0.741\n",
      "Model:                            OLS   Adj. R-squared:                  0.734\n",
      "Method:                 Least Squares   F-statistic:                     108.1\n",
      "Date:                Thu, 07 Mar 2019   Prob (F-statistic):          6.72e-135\n",
      "Time:                        19:54:08   Log-Likelihood:                -1498.8\n",
      "No. Observations:                 506   AIC:                             3026.\n",
      "Df Residuals:                     492   BIC:                             3085.\n",
      "Df Model:                          13                                         \n",
      "Covariance Type:            nonrobust                                         \n",
      "==============================================================================\n",
      "                 coef    std err          t      P>|t|      [0.025      0.975]\n",
      "------------------------------------------------------------------------------\n",
      "const         36.4595      5.103      7.144      0.000      26.432      46.487\n",
      "x1            -0.1080      0.033     -3.287      0.001      -0.173      -0.043\n",
      "x2             0.0464      0.014      3.382      0.001       0.019       0.073\n",
      "x3             0.0206      0.061      0.334      0.738      -0.100       0.141\n",
      "x4             2.6867      0.862      3.118      0.002       0.994       4.380\n",
      "x5           -17.7666      3.820     -4.651      0.000     -25.272     -10.262\n",
      "x6             3.8099      0.418      9.116      0.000       2.989       4.631\n",
      "x7             0.0007      0.013      0.052      0.958      -0.025       0.027\n",
      "x8            -1.4756      0.199     -7.398      0.000      -1.867      -1.084\n",
      "x9             0.3060      0.066      4.613      0.000       0.176       0.436\n",
      "x10           -0.0123      0.004     -3.280      0.001      -0.020      -0.005\n",
      "x11           -0.9527      0.131     -7.283      0.000      -1.210      -0.696\n",
      "x12            0.0093      0.003      3.467      0.001       0.004       0.015\n",
      "x13           -0.5248      0.051    -10.347      0.000      -0.624      -0.425\n",
      "==============================================================================\n",
      "Omnibus:                      178.041   Durbin-Watson:                   1.078\n",
      "Prob(Omnibus):                  0.000   Jarque-Bera (JB):              783.126\n",
      "Skew:                           1.521   Prob(JB):                    8.84e-171\n",
      "Kurtosis:                       8.281   Cond. No.                     1.51e+04\n",
      "==============================================================================\n",
      "\n",
      "Warnings:\n",
      "[1] Standard Errors assume that the covariance matrix of the errors is correctly specified.\n",
      "[2] The condition number is large, 1.51e+04. This might indicate that there are\n",
      "strong multicollinearity or other numerical problems.\n"
     ]
    }
   ],
   "source": [
    "Estimator = sm.OLS(Y,sm.add_constant(X))\n",
    "est2 = Estimator.fit()\n",
    "print(est2.summary())"
   ]
  },
  {
   "cell_type": "markdown",
   "metadata": {},
   "source": [
    "High p value has a low coefficient which means low significance.\n",
    "From the above table, we see that the 3rd and 7th value are insignifcant.\n",
    "This means that column INDUS and AGE are insignificant here"
   ]
  },
  {
   "cell_type": "markdown",
   "metadata": {},
   "source": [
    "Actual values vs Fitted values"
   ]
  },
  {
   "cell_type": "code",
   "execution_count": 6,
   "metadata": {},
   "outputs": [
    {
     "data": {
      "image/png": "[encoded data removed]",
      "text/plain": [
       "<Figure size 432x288 with 1 Axes>"
      ]
     },
     "metadata": {
      "needs_background": "light"
     },
     "output_type": "display_data"
    }
   ],
   "source": [
    "plt.xlabel(\"Predicted Values\")\n",
    "plt.ylabel(\"Actual Values\")\n",
    "plt.title('Prediced values vs Actual Values')\n",
    "plt.scatter(predicted, Y)\n",
    "plt.show()"
   ]
  },
  {
   "cell_type": "markdown",
   "metadata": {},
   "source": [
    "Residual values vs Actual values"
   ]
  },
  {
   "cell_type": "code",
   "execution_count": 7,
   "metadata": {},
   "outputs": [
    {
     "data": {
      "image/png": "[encoded data removed]",
      "text/plain": [
       "<Figure size 432x288 with 1 Axes>"
      ]
     },
     "metadata": {
      "needs_background": "light"
     },
     "output_type": "display_data"
    }
   ],
   "source": [
    "residuals = Y - predicted\n",
    "plt.xlabel('Residual Values')\n",
    "plt.ylabel('Actual Values')\n",
    "plt.title('Residuals vs Actual Values')\n",
    "plt.scatter(residuals, predicted)\n",
    "plt.show()"
   ]
  },
  {
   "cell_type": "markdown",
   "metadata": {},
   "source": [
    "RIDGE REGULARIZATION"
   ]
  },
  {
   "cell_type": "code",
   "execution_count": 12,
   "metadata": {},
   "outputs": [
    {
     "name": "stdout",
     "output_type": "stream",
     "text": [
      "Ridge Regularization coefficients: \n",
      "[-1.07473720e-01  4.65716366e-02  1.59989982e-02  2.67001859e+00\n",
      " -1.66846452e+01  3.81823322e+00 -2.69060598e-04 -1.45962557e+00\n",
      "  3.03515266e-01 -1.24205910e-02 -9.40758541e-01  9.36807461e-03\n",
      " -5.25966203e-01]\n",
      "Best Alpha value for Ridge Regularization : 0.1\n",
      "Best RMSE for corresponding Alpha = 4.679573505950084\n"
     ]
    }
   ],
   "source": [
    "warnings.filterwarnings('ignore')\n",
    "tuningAlpha = [0.001, 0.005, 0.01, 0.1]\n",
    "ridge = RidgeCV(alphas=tuningAlpha, cv=10)\n",
    "ridge.fit(X,Y)\n",
    "prediction = ridge.predict(X)\n",
    "\n",
    "print(\"Ridge Regularization coefficients: \\n\" + str(ridge.coef_))\n",
    "print(\"Best Alpha value for Ridge Regularization : \" + str(ridge.alpha_))\n",
    "print('Best RMSE for corresponding Alpha =', np.sqrt(mean_squared_error(Y, prediction)))"
   ]
  },
  {
   "cell_type": "markdown",
   "metadata": {},
   "source": [
    "LASSO REGULARIZATION"
   ]
  },
  {
   "cell_type": "code",
   "execution_count": 9,
   "metadata": {},
   "outputs": [
    {
     "name": "stdout",
     "output_type": "stream",
     "text": [
      "Lasso Regularization coefficients: \n",
      "[-1.06228354e-01  4.68603033e-02  6.47427472e-03  2.50419017e+00\n",
      " -1.43944776e+01  3.81418583e+00 -1.81830336e-03 -1.42215548e+00\n",
      "  2.98525812e-01 -1.26273172e-02 -9.16368723e-01  9.48546597e-03\n",
      " -5.30481493e-01]\n",
      "Best Alpha value for Lasso Regularization : 0.01\n",
      "Best RMSE for corresponding Alpha = 4.683094652065242\n"
     ]
    }
   ],
   "source": [
    "tuningAlpha = [0.001, 0.005, 0.01]\n",
    "lasso = LassoCV(alphas=tuningAlpha, cv=10)\n",
    "lasso.fit(X,Y)\n",
    "prediction = lasso.predict(X)\n",
    "\n",
    "print(\"Lasso Regularization coefficients: \\n\" + str(lasso.coef_))\n",
    "print(\"Best Alpha value for Lasso Regularization : \" + str(lasso.alpha_))\n",
    "print('Best RMSE for corresponding Alpha =', np.sqrt(mean_squared_error(Y, prediction)))"
   ]
  },
  {
   "cell_type": "markdown",
   "metadata": {},
   "source": [
    "ELASTICNET REGULARIZATION"
   ]
  },
  {
   "cell_type": "code",
   "execution_count": 10,
   "metadata": {
    "scrolled": true
   },
   "outputs": [
    {
     "name": "stdout",
     "output_type": "stream",
     "text": [
      "ELASTICNET REGULARIZATION for alpha = 0.1\n",
      "ElasticNet Regularization coefficients: \n",
      "[-0.1000792   0.05137652 -0.0459005   0.98797012 -0.05953271  3.25266223\n",
      " -0.007219   -1.18140247  0.28872571 -0.0149519  -0.79350234  0.00996304\n",
      " -0.59818437]\n",
      "Best RMSE for corresponding Alpha = 4.812275157179088\n",
      "\n",
      "ELASTICNET REGULARIZATION for alpha = 0.01\n",
      "ElasticNet Regularization coefficients: \n",
      "[-0.10236961  0.04826146 -0.02743408  2.33082345 -6.09362738  3.84546913\n",
      " -0.00899451 -1.30115187  0.28110806 -0.01339    -0.82728988  0.00990764\n",
      " -0.54230171]\n",
      "Best RMSE for corresponding Alpha = 4.724067684420328\n",
      "\n",
      "ELASTICNET REGULARIZATION for alpha = 0.001\n",
      "ElasticNet Regularization coefficients: \n",
      "[-1.06693426e-01  4.67921334e-02  9.40771752e-03  2.63752976e+00\n",
      " -1.51176432e+01  3.82859616e+00 -1.63003561e-03 -1.43635622e+00\n",
      "  2.99894475e-01 -1.25478038e-02 -9.23496557e-01  9.44946179e-03\n",
      " -5.27866133e-01]\n",
      "Best RMSE for corresponding Alpha = 4.681485399600228\n",
      "\n"
     ]
    }
   ],
   "source": [
    "tuningAlpha = [0.1,0.01,0.001]\n",
    "ENet = ElasticNet(alpha=0.1, l1_ratio = 0.5, fit_intercept = True)\n",
    "ENet.fit(X,Y)\n",
    "prediction = ENet.predict(X)\n",
    "\n",
    "print(\"ELASTICNET REGULARIZATION for alpha = 0.1\")\n",
    "print(\"ElasticNet Regularization coefficients: \\n\" + str(ENet.coef_))\n",
    "print('Best RMSE for corresponding Alpha =', np.sqrt(mean_squared_error(Y, prediction)))\n",
    "print()\n",
    "\n",
    "ENet = ElasticNet( alpha=0.01, l1_ratio = 0.5, fit_intercept = True)\n",
    "ENet.fit(X,Y)\n",
    "prediction = ENet.predict(X)\n",
    "\n",
    "print(\"ELASTICNET REGULARIZATION for alpha = 0.01\")\n",
    "print(\"ElasticNet Regularization coefficients: \\n\" + str(ENet.coef_))\n",
    "print('Best RMSE for corresponding Alpha =', np.sqrt(mean_squared_error(Y, prediction)))\n",
    "print()\n",
    "\n",
    "ENet = ElasticNet(alpha=0.001, l1_ratio = 0.5, fit_intercept = True)\n",
    "ENet.fit(X,Y)\n",
    "prediction = ENet.predict(X)\n",
    "\n",
    "print(\"ELASTICNET REGULARIZATION for alpha = 0.001\")\n",
    "print(\"ElasticNet Regularization coefficients: \\n\" + str(ENet.coef_))\n",
    "print('Best RMSE for corresponding Alpha =', np.sqrt(mean_squared_error(Y, prediction)))\n",
    "print()"
   ]
  }
 ],
 "metadata": {
  "kernelspec": {
   "display_name": "Python 3",
   "language": "python",
   "name": "python3"
  },
  "language_info": {
   "codemirror_mode": {
    "name": "ipython",
    "version": 3
   },
   "file_extension": ".py",
   "mimetype": "text/x-python",
   "name": "python",
   "nbconvert_exporter": "python",
   "pygments_lexer": "ipython3",
   "version": "3.7.1"
  }
 },
 "nbformat": 4,
 "nbformat_minor": 2
}
